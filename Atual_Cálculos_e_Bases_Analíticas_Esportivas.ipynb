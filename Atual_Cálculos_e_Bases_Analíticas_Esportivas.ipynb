{
  "nbformat": 4,
  "nbformat_minor": 0,
  "metadata": {
    "colab": {
      "name": "Atual-Cálculos e Bases Analíticas Esportivas",
      "provenance": [],
      "collapsed_sections": [],
      "authorship_tag": "ABX9TyOgaQymtcWIvfT+dhH4+R6L",
      "include_colab_link": true
    },
    "kernelspec": {
      "name": "python3",
      "display_name": "Python 3"
    },
    "language_info": {
      "name": "python"
    }
  },
  "cells": [
    {
      "cell_type": "markdown",
      "metadata": {
        "id": "view-in-github",
        "colab_type": "text"
      },
      "source": [
        "<a href=\"https://colab.research.google.com/github/Shaffer443/Aulas_uninter/blob/master/Atual_C%C3%A1lculos_e_Bases_Anal%C3%ADticas_Esportivas.ipynb\" target=\"_parent\"><img src=\"https://colab.research.google.com/assets/colab-badge.svg\" alt=\"Open In Colab\"/></a>"
      ]
    },
    {
      "cell_type": "markdown",
      "source": [
        "# **Analise de + ou - EV**\n"
      ],
      "metadata": {
        "id": "csa-d-P7OQ6-"
      }
    },
    {
      "cell_type": "markdown",
      "source": [
        "Probabilidades +EV de uma partida"
      ],
      "metadata": {
        "id": "mW0SxZCXShxf"
      }
    },
    {
      "cell_type": "code",
      "source": [
        "print('Validando Probabilidades de um Evento Único.\\n')\n",
        "\n",
        "\n",
        "stake = 2.00\n",
        "universo = int(input('Número totais de partidas: '))\n",
        "\n",
        "# Match Odds:\n",
        "\n",
        "def match():\n",
        "  v = int(input('Número totais de vitórias: '))\n",
        "  x = int(input('Número totais de empates/não derrotas: '))\n",
        "  red = int(input('Número totais de derrotas: '))\n",
        "\n",
        "  v1_v2 = v / universo\n",
        "  x1_x2 = x / universo\n",
        "  perca = red / universo\n",
        "\n",
        "  print('\\nrelatório:')\n",
        "\n",
        "  print('Número de Vitórias: {} - {:.2f} % de +EV | Odds Válida {:.2f}'.format(v,(v1_v2*100), (1/v1_v2) ))\n",
        "  print('Número de Não Derrotas: {} - {:.2f} % de +EV | Odds Válida {:.2f}'.format(x, (x1_x2*100), (1/x1_x2) ))\n",
        "  print('Número de Derrotas: {} - {:.2f} % de +EV | Odds Válida {:.2f}'.format(red, (perca*100), (1/perca) ))\n",
        "\n",
        "  print('\\nIndicadores:')\n",
        "\n",
        "  if (v1_v2*100 >= 85):\n",
        "    stakemax = 3\n",
        "    valormax = stake*stakemax\n",
        "    print('Altissíma probabilidade na VITÓRIA. Recomendada Entrada !!')\n",
        "    print('Entrada Máxima Permitida: R$ {} ou até {} stake(s).'.format(valormax, stakemax)) # NÃO SAINDO as vezes\n",
        "  elif (v1_v2*100 < 85 and v1_v2*100 >= 75):\n",
        "    stakemax = 2\n",
        "    valormax = stake*stakemax\n",
        "    print('Alta Probabilidade na VITÓRIA. Recomendo Entrada !!')\n",
        "    print('Entrada Máxima Permitida: R$ {} ou até {} stake(s).'.format(valormax, stakemax))\n",
        "  elif (v1_v2*100 < 75 and v1_v2*100 >= 60):\n",
        "    stakemax = 1\n",
        "    valormax = stake*stakemax\n",
        "    print('Boa probabilidade na VITÓRIA. Entrada válida.')\n",
        "    print('Entrada Máxima Permitida: R$ {} ou até {} stake(s).'.format(valormax, stakemax))\n",
        "  #else:\n",
        "    print('Não recomentada a entrada na Vitória. OU na Pré live. Probabilidade abaixo ou muito próxima a apenas 60 %')\n",
        "\n",
        "  if (x1_x2*100 >= 85):\n",
        "    stakemax = 3\n",
        "    valormax = stake*stakemax\n",
        "    print('Altissimá probabilidade de NÃO PERDER. Recomendada Entrada !!')\n",
        "    print('Entrada Máxima Permitida: R$ {} ou até {} stake(s).'.format(valormax, stakemax))\n",
        "  elif (x1_x2*100 < 85 and x1_x2*100 >= 75):\n",
        "    stakemax = 2\n",
        "    valormax = stake*stakemax\n",
        "    print('Alta Probabilidade de NÃO PERDER. Recomendo Entrada !!')\n",
        "    print('Entrada Máxima Permitida: R$ {} ou até {} stake(s).'.format(valormax, stakemax))\n",
        "  elif (x1_x2*100 < 75 and x1_x2*100 >= 60):\n",
        "    stakemax = 1\n",
        "    valormax = stake*stakemax\n",
        "    print('Boa probabilidade de NÃO PERDER. Entrada válida.')\n",
        "    print('Entrada Máxima Permitida: R$ {} ou até {} stake(s).'.format(valormax, stakemax))\n",
        "  #else:\n",
        "    print('Não recomentada a entrada na Vitória. OU na Pré live. Probabilidade abaixo ou muito próxima a apenas 60 %')\n",
        "\n",
        "\n",
        "  if( red <= 50):\n",
        "    print('Time Tem grande probabilidade de NÃO VENCER está partida. Recomendo a não entrada á favor deste time, ou ir Lay a ele.')\n",
        "\n",
        "  #print('\\nrelatório:') - Repetido. Tem acima.\n",
        "\n",
        "  #print('Número de Vitórias: {} - {:.2f} % de +EV - Odds Válida {:.2f}'.format(v,(v1_v2*100), (1/v1_v2) ))\n",
        "  #print('Número de Não Derrotas: {} - {:.2f} % de +EV - Odds Válida {:.2f}'.format(x, (x1_x2*100), (1/x1_x2) ))\n",
        "  #print('Número de Derrotas: {} - {:.2f} % de +EV - Odds Válida {:.2f}'.format(red, (red*100), (1/red) ))\n",
        "\n",
        "\n",
        "\n",
        "def over_under():\n",
        "  \n",
        "  contador = 1\n",
        "  somacasa = 0\n",
        "  somavisitante = 0\n",
        "\n",
        "  for i in range(contador, universo+1, 1):\n",
        "    \n",
        "    print('Partida {}'.format(contador))\n",
        "    golscasa = int(input('Número Gols do time da casa: '))\n",
        "    golsvisitante = int(input('Número de gols do time visitante: '))\n",
        "    \n",
        "    contador += 1\n",
        "    somacasa += golscasa\n",
        "    somavisitante += golsvisitante\n",
        "  \n",
        "  # Overs\n",
        "  totalcasa = somacasa \n",
        "  mediacasa = totalcasa / universo\n",
        "  \n",
        "  totalvisitante = somavisitante\n",
        "  mediavisitante = totalvisitante / universo\n",
        "  \n",
        "  # Unders\n",
        "  sofridoscasa = totalcasa - totalvisitante\n",
        "  mediasofridoscasa = sofridoscasa / universo\n",
        "\n",
        " \n",
        "  # Gerais\n",
        "  totalgols = totalcasa+totalvisitante\n",
        "  mediatotalgols = totalgols/universo\n",
        "\n",
        "  # Juntar Over e under no print abaixo ? assim dadno o resultado entre gols feitos e sofridos ?\n",
        "  # observar a média de gols correta, pois a jogos que o time da casa ou visitante pode não amrcar, obtendo uma média muito geral e não real.\n",
        "  \n",
        "  # Resumo Time da Casa:\n",
        "  print('\\n')\n",
        "  print('Time da Casa jogando em casa, nas ultimas {} partidas marcou {} gols, com uma média de gols em casa de {:.1f} por partida'.format(universo, totalcasa, mediacasa))  # ok. Over - Rodando (marcadso em casa)\n",
        "  print('Time da Casa jogando em casa, nas ultimas {} partidas levou {} gols, com uma média de gols Sofridos em casa de {:.1f} por partida'.format(universo, totalvisitante, mediavisitante))  # ok. Under - Rodando (dados do visitante em casa)\n",
        "\n",
        "\n",
        "# Premissa de foco em um time alvo - CASA ou VISITANTE e observar o que fazer com os dados\n",
        "# Perguntar no início se o alvo dos dados é o time da CASA ou o VISITANTE e montar os dados de acordo com o time foco.\n",
        "# colocar media dos gols do time da casa por\n",
        "# assim como colocar a media de gols sofridos\n",
        "# assim como média total por partida\n",
        "# definir parâmetros over e under.\n",
        "# diferença entre jogos da casa em casa e jogos do visitante fora\n",
        "# confronto direto em outros calculos\n",
        "# IMPORTANTE ULTIMOS JOGOS ou ULTIMOS JOGOS NO MESMO TORNEIO\n",
        "    \n",
        "\n",
        "  \n",
        "\n",
        "\n",
        "# Programa Principal:\n",
        "\n",
        "match()\n",
        "\n",
        "print('\\n')\n",
        "print('*'*5 + 'Over|Under'+'*'*5)\n",
        "\n",
        "over_under()"
      ],
      "metadata": {
        "colab": {
          "base_uri": "https://localhost:8080/"
        },
        "id": "kEi73pYEtcAZ",
        "outputId": "cbeef727-f37c-4be4-8f30-740832193063"
      },
      "execution_count": 25,
      "outputs": [
        {
          "output_type": "stream",
          "name": "stdout",
          "text": [
            "Validando Probabilidades de um Evento Único.\n",
            "Número totais de partidas: 4\n",
            "Número totais de vitórias: 2\n",
            "Número totais de empates/não derrotas: 1\n",
            "Número totais de derrotas: 1\n",
            "\n",
            "relatório:\n",
            "Número de Vitórias: 2 - 50.00 % de +EV | Odds Válida 2.00\n",
            "Número de Não Derrotas: 1 - 25.00 % de +EV | Odds Válida 4.00\n",
            "Número de Derrotas: 1 - 25.00 % de +EV | Odds Válida 4.00\n",
            "\n",
            "Indicadores:\n",
            "Time Tem grande probabilidade de NÃO VENCER está partida. Recomendo a não entrada á favor deste time, ou ir Lay a ele.\n",
            "\n",
            "\n",
            "*****Over|Under*****\n",
            "Partida 1\n",
            "Número Gols do time da casa: 2\n",
            "Número de gols do time visitante: 5\n",
            "Partida 2\n",
            "Número Gols do time da casa: 1\n",
            "Número de gols do time visitante: 1\n",
            "Partida 3\n",
            "Número Gols do time da casa: 1\n",
            "Número de gols do time visitante: 0\n",
            "Partida 4\n",
            "Número Gols do time da casa: 2\n",
            "Número de gols do time visitante: 1\n",
            "Time da Casa jogando em casa, nas ultimas 4 partidas marcou 6 gols, com uma média de gols em casa de 1.5 por partida\n",
            "Time da Casa jogando em casa, nas ultimas 4 partidas levou 7 gols, com uma média de gols Sofridos em casa de 1.8 por partida\n"
          ]
        }
      ]
    },
    {
      "cell_type": "markdown",
      "source": [
        "Viábilidade de um torneio"
      ],
      "metadata": {
        "id": "yoTt53tES2O_"
      }
    },
    {
      "cell_type": "code",
      "execution_count": null,
      "metadata": {
        "id": "FIDJtA8COH_P"
      },
      "outputs": [],
      "source": [
        "partidastotais = 306\n",
        "\n",
        "stake = float(input('Valor da Entrada R$: '))\n",
        "odds = float(input('Valor da Odds: '))\n",
        "ev = float(input('Valor da probabilidade da condição em %: '))\n",
        "partidasgreen = partidastotais - (ev/100) \n",
        "\n",
        "faturamento = stake*odds*partidasgreen\n",
        "\n",
        "print('Faturamento(Retorno Bruto) de R$ %.2f'%faturamento)\n",
        "\n",
        "investimento = partidasgreen*stake\n",
        "\n",
        "print('Investimento de R$ %.2f'%investimento)\n",
        "\n",
        "lucro = faturamento - investimento\n",
        "#margemev = 100-((odds-1.00)*100) # usar para definir odds\n",
        "\n",
        "print('Lucro de R$ {:.2f}, com {} % de margem de acerto(s)'.format(lucro, ev))\n",
        "\n",
        "print('\\nAnálise Inicial:')\n",
        "\n",
        "if(lucro > (investimento*0.10)):\n",
        "  print('Ótimas Probabilidades de +EV com este método.')\n",
        "elif(lucro <= (investimento*0.10) and lucro >= (investimento*0.05)):\n",
        "  print('Boas Probabilidades de +EV positivo.')\n",
        "else:\n",
        "  print('Lucrativade deste método não é satisfatória nesta condição.')\n",
        "\n",
        "print('-'*40)\n",
        "print('Fase 2 - Atualidade')\n",
        "\n",
        "partidasexecutadas = int(input('Quantas partidas já foram Jogadas?: '))\n",
        "\n",
        "print('\\nAnálise Atual: Após {} jogos:'.format(partidasexecutadas))\n",
        "\n",
        "partidasrestantes = partidastotais - partidasexecutadas\n",
        "probabilidadedoeventoatualmente = float(input('Valor atual da probabilidade da condição em %: '))\n",
        "oddsatual = float(input('Valor da Odds Atual: '))\n",
        "\n",
        "evpositivoatual = partidasrestantes - (probabilidadedoeventoatualmente/100) #eventos, partidas com premissa de GREEN\n",
        "\n",
        "faturamentoatual = stake*oddsatual*partidasrestantes\n",
        "\n",
        "print('Faturamento(Retorno Bruto) de R$ %.2f'%faturamentoatual)\n",
        "\n",
        "investimentoatual = evpositivoatual*stake\n",
        "\n",
        "print('Investimento de R$ %.2f'%investimentoatual)\n",
        "\n",
        "premissadelucro = faturamentoatual - investimentoatual\n",
        "\n",
        "print('Lucro de R$ {:.2f}, com {} % de margem de acerto(s)'.format(premissadelucro, probabilidadedoeventoatualmente))\n",
        "\n",
        "if(lucro > (investimentoatual*0.10)):\n",
        "  print('Ótimas Probabilidades de +EV com este método.')\n",
        "elif(lucro <= (investimentoatual*0.10) and lucro >= (investimentoatual*0.05)):\n",
        "  print('Boas Probabilidades de +EV positivo.')\n",
        "else:\n",
        "  print('Lucrativade deste método não é satisfatória nesta condição.')\n",
        "\n",
        "# Rodando. Criar indices para perguntas e premissas de respostas para validação de +EV\n",
        "\n"
      ]
    },
    {
      "cell_type": "markdown",
      "source": [
        "Análise de Parâmetros para Composição de Métodos Esportivos."
      ],
      "metadata": {
        "id": "CcPFzKhDkqlJ"
      }
    },
    {
      "cell_type": "code",
      "source": [
        "print('Análise de Dados Passados')\n",
        "\n",
        "temporadas = int(input('Quantas temporadas tem dados, ou deseja formular dados como base? '))\n",
        "contador = 1\n",
        "soma = 0\n",
        "\n",
        "for x in range(temporadas):\n",
        "    x = float(input('Valor do dado: '))\n",
        "    soma += x \n",
        "    #print(soma)\n",
        "    resultado = soma/contador\n",
        "    #print(resultado)\n",
        "    contador += 1\n",
        "print('Média de {}'.format(resultado))\n",
        "# procentagem de um resultado, dados médios de número de gols e outros.    "
      ],
      "metadata": {
        "colab": {
          "base_uri": "https://localhost:8080/"
        },
        "id": "3SJySsKkk7eC",
        "outputId": "a1337335-68a0-40a6-877c-e0e5ddd6c98e"
      },
      "execution_count": null,
      "outputs": [
        {
          "output_type": "stream",
          "name": "stdout",
          "text": [
            "Análise de Dados Passados\n",
            "Quantas temporadas tem dados, ou deseja formular dados como base? 4\n",
            "Valor do dado: 77\n",
            "Valor do dado: 78\n",
            "Valor do dado: 79\n",
            "Valor do dado: 80\n",
            "Média de 78.5\n"
          ]
        }
      ]
    },
    {
      "cell_type": "markdown",
      "source": [
        "Retorno Médio de Lucro por Operação com Stake Padrão\n"
      ],
      "metadata": {
        "id": "DLDsXos2rZE_"
      }
    },
    {
      "cell_type": "code",
      "source": [
        "# Identificar valores médios para auxiliar na viábilidade de um método.\n",
        "# foco em Punter pré-live\n",
        "\n",
        "print('*'*10 + ' Média de Lucratividade ' + '*'*10 + '\\n' )\n",
        "\n",
        "print('# Dados Iniciais #\\n')\n",
        "stake = 2.00 # Em Reais\n",
        "entradas = int(input('Entradas Totais: ')) # Operações feitas ou rpevistas no torneio ou para o time.\n",
        "greens = int(input('Entradas Ganhas: '))  # Qunatas dessas entradas foram vencidas ou positivas\n",
        "reds = entradas - greens\n",
        "oddsmediaentradas = 1.40\n",
        "retornomedio = (stake * (oddsmediaentradas-1.00))\n",
        "\n",
        "print('\\n# Dados Resultados #\\n')\n",
        "print('Entradas perdidas {}'.format(reds))\n",
        "print('Previsibibilidade ou Porcentagem de ACERTOS é de {} %'.format((greens/entradas)*100))\n",
        "print('Previsibibilidade ou Porcentagem de Percas (Erros) é de {} %'.format((reds/entradas)*100))\n",
        "print('Valor Total Aportado R$ {}'.format(entradas * stake))\n",
        "print('Valor Total Faturado com Greens R$ {}'.format(greens * stake))\n",
        "print('Valor Total Lucrado com Greens R$ {}'.format((greens * stake)*(oddsmediaentradas-1.00))) \n",
        "print('Valor Total Perdidos com REDS R$ {}'.format(reds*stake))\n",
        "\n",
        "print('\\n'+'-'*10 + ' Resumo ' + '-'*10+'\\n')\n",
        "\n",
        "if (((greens * stake)*(oddsmediaentradas-1.00)) >  (reds*stake)):\n",
        "  print('Lucrando R$ {}'.format(((greens * stake)*(oddsmediaentradas-1.00))- (reds*stake)))\n",
        "elif (((greens * stake)*(oddsmediaentradas-1.00)) <=  (reds*stake)):\n",
        "  print('Sem Lucratividade ou perdendo R$ {}'.format((reds*stake)-((greens * stake)*(oddsmediaentradas-1.00))))\n",
        "\n",
        "print('Quer calcular odds de valor e numeros de greens para meta? S - Sim | N - Não')\n",
        "resposta = input(' ')\n",
        "\n",
        "if(resposta == 'S' or resposta == 's'):\n",
        "  saldo = ((reds*stake)-((greens * stake)*(oddsmediaentradas-1.00))\n",
        "  print('Precisamos de {} partidas GREEN para zerar o prejuizo.'.format(saldo/retornomedio)) \n",
        "\n",
        "# Saldo positivo e negativo terá informações diferentes\n",
        "# Achar valor para lucra com cada partidas. Valor de lucro em cada partida \n",
        "# conjurar mais informações como odds válida,em relação ao estado atual para voltar a lucratividade. \n",
        "# Além de numeros de acertos para voltar a meta"
      ],
      "metadata": {
        "id": "vuJxxukxrjHY"
      },
      "execution_count": null,
      "outputs": []
    }
  ]
}