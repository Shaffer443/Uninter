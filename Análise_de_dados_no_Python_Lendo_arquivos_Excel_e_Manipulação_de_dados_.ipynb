{
  "nbformat": 4,
  "nbformat_minor": 0,
  "metadata": {
    "colab": {
      "name": "Análise de dados no Python - Lendo arquivos Excel e Manipulação de dados.",
      "provenance": [],
      "collapsed_sections": [],
      "authorship_tag": "ABX9TyMz32eL+OZXeLnCJ5LsKsCj",
      "include_colab_link": true
    },
    "kernelspec": {
      "name": "python3",
      "display_name": "Python 3"
    },
    "language_info": {
      "name": "python"
    }
  },
  "cells": [
    {
      "cell_type": "markdown",
      "metadata": {
        "id": "view-in-github",
        "colab_type": "text"
      },
      "source": [
        "<a href=\"https://colab.research.google.com/github/Shaffer443/Aulas_uninter/blob/master/An%C3%A1lise_de_dados_no_Python_Lendo_arquivos_Excel_e_Manipula%C3%A7%C3%A3o_de_dados_.ipynb\" target=\"_parent\"><img src=\"https://colab.research.google.com/assets/colab-badge.svg\" alt=\"Open In Colab\"/></a>"
      ]
    },
    {
      "cell_type": "markdown",
      "source": [
        "**Lendo com a biblioteca pandas e Manipulação de dados.**"
      ],
      "metadata": {
        "id": "gulY4_3PVFYU"
      }
    },
    {
      "cell_type": "markdown",
      "source": [
        "Panda - É uma biblioteca utilizada para fazer análise de dados"
      ],
      "metadata": {
        "id": "gV0c3x4KdHoI"
      }
    },
    {
      "cell_type": "code",
      "source": [
        "# Acesso aos Dados.\n",
        "\n",
        "import pandas\n",
        "\n",
        "# Carregando dados. QUe podem ser de um endereço local ou um html. sempre entre aspas. e .arquivo(csv,xlsx, outros)\n",
        "# Pegar dados com permissão de acesso ou o mais bruto.\n",
        "dadosprincipal = pandas.read_csv('https://raw.githubusercontent.com/leonhgomes/Pandas/main/pokemon_data.csv')\n",
        "\n",
        "def columns():\n",
        "    print(dadosprincipal.columns)\n",
        "    # print apenas das colunas do arquivo.\n",
        "\n",
        "def dados():\n",
        "    print(dadosprincipal.head)\n",
        "    # Carrega as informações totais do arquivo.\n",
        "\n",
        "def dadosprincipaisselecionadosup():\n",
        "    print(dadosprincipal.head(3))\n",
        "    # quantidade de linhas iniciais (3) + todas as colunas de cima para baixo.\n",
        "    # três primeiras\n",
        "    # Pode-se passar uma quantidade de linhas para abrir do arquivo, caso seja estenso em númeor de linhas e colunas.\n",
        "\n",
        "def dadosprincipaisselecionadosdown():\n",
        "    print(dadosprincipal.tail(3))\n",
        "    # quantidade de linhas Finais (3) + todas as colunas\n",
        "    # Três ultimas\n",
        "\n",
        "# Acessando Colunas Individuais:\n",
        "\n",
        "def colunaselecionada():\n",
        "    print(dadosprincipal['Nome'])\n",
        "    # mostra apenas a coluna 'Nome' do arquivo.\n",
        "\n",
        "def colunasselecionadas():\n",
        "    print(dadosprincipal[['Nome','Tipo 1']])\n",
        "    # mostra mais de uma coluna. 'Nome' e 'Tipo1' do arquivo.\n",
        "    # OBS: Tive que usar um colchete para cada coluna que quis mostrar. Ou seja, Duas.\n",
        "\n",
        "# Acessando Colunas e linhas específicas:\n",
        "\n",
        "def selecionandodeterminadascolunaselinhas():\n",
        "    print('1 -  Coluna: Nome e Tipo 1 + Linhas: 5 a 9'+ ' '+'2 -  Coluna: Nome e Tipo 1 + Linhas: 5 a 249+ Pulando de 2 em 2')\n",
        "    escolha = int(input('Escolha: '))\n",
        "    if (escolha == 1):\n",
        "        print(dadosprincipal[['Nome', 'Tipo 1']][5:10]) # Coluna 'NOME\" + 'TIPO 1', da linha 5 a 9\n",
        "    elif(escolha == 2):\n",
        "        print(dadosprincipal[['Nome', 'Tipo 1']][5:250:5]) # Coluna 'NOME\" + 'TIPO 1', da linha 5 a 249, pulando de 2 em 2\n",
        "\n",
        "# Acessando linhas específicas:\n",
        "\n",
        "def mostrarlinhas():\n",
        "    print(dadosprincipal.iloc[:4])\n",
        "    # localizar do início até a linha 4.\n",
        "\n",
        "# Acessando linhas e colunas específicas:\n",
        "\n",
        "def mostrandolinhadeumacolunaespecifica():\n",
        "    print(dadosprincipal.iloc[2,1])\n",
        "    # localizar da Linha: 2, Coluna: 1.\n",
        "\n",
        "# Busca por Nome, ou outro reconhecimento:\n",
        "\n",
        "def buscapornome():\n",
        "    print('1- localiza todas as ocorrencias FOGO, contidas dentro da coluna TIPO 1')\n",
        "    print('2 - Acessar Linha por Nome ')\n",
        "    escolha = int(input('Escolha: '))\n",
        "    if(escolha == 1):\n",
        "        print(dadosprincipal.loc[dadosprincipal['Tipo 1'] == 'Fogo'])\n",
        "        # localiza todas as ocorrencias 'FOGO', contidas dentro da coluna 'TIPO 1'\n",
        "\n",
        "# Acessar Linha por Nome:\n",
        "    # indice e linha foi nomeado ao meu gosto.\n",
        "    # iterrows - Gera uma lista de linhas, interação pelas linhas do arquivo\n",
        "    elif(escolha==2):\n",
        "        for indice, linha in dadosprincipal.iterrows():\n",
        "            print(indice, linha['Nome']) # coluna alvo para retorno do s dados.\n",
        "            if linha['#'] == 150: # uma marcação, coluna contida na planilha, pdoeria ser qualquer outra referencia ao meu gosto.\n",
        "                break               # usar [] para delimitar paramentros em um arquivo\n",
        "\n",
        "    # Programação retornará o itens de da coluna NOME até a macação númerica, contida na planilha, de 150. e vai parar.\n",
        "\n",
        "# Valores Estatisticos Básicos:\n",
        "\n",
        "def valoresemediasdoarquivo():\n",
        "    print(dadosprincipal.describe())\n",
        "\n",
        "# Ordenação de Dados:\n",
        "\n",
        "def ordenacaodedados():\n",
        "    dadosprincipalordenado=(dadosprincipal.sort_values('Nome'))\n",
        "    # Organizado de forma ascendente (a-z)\n",
        "    # nomedavariavel.sort_values('coluna para organização dentrod o arquivo')\n",
        "\n",
        "    dadosprincipaldesordenado=(dadosprincipal.sort_values('Nome',ascending=False))\n",
        "    # Organizado de forma descendente (Z-A)\n",
        "    # \"F\" maiúsculo.\n",
        "    print('Dados:')\n",
        "    print('1 - Ordenado')\n",
        "    print('2 - Desordenado')\n",
        "    escolha = int(input('Escolha a ordem dos Dados: '))\n",
        "    if(escolha == 1):\n",
        "        print(dadosprincipalordenado)\n",
        "    elif(escolha == 2):\n",
        "        print(dadosprincipaldesordenado)\n",
        "\n",
        "\n",
        "#### Mudanças nos Dados:\n",
        "\n",
        "def mudancanosdados():\n",
        "# Modelo cria uma coluna 'Total\" somando todos os dados de cada linha e gerando seu total.\n",
        "    dadosprincipal['Total'] = dadosprincipal['Ataque'] + dadosprincipal['Atq Esp'] + dadosprincipal['Velocidade']\n",
        "    print('Dados:')\n",
        "    print('1 - Soma Dos Atributos em uma coluna Total')\n",
        "    print('2 - Forma Alternativa de Criar uma Coluna Total ')\n",
        "    print('3 - Remoção de uma Coluna')\n",
        "    escolha = int(input('Escolha a ordem dos Dados: '))\n",
        "    if(escolha == 1):\n",
        "        # Tentar não ter quebra no print\n",
        "        print('{} - {} - {} - {}'.format(dadosprincipal['Ataque'], dadosprincipal['Atq Esp'], dadosprincipal['Velocidade'], dadosprincipal['Total']))\n",
        "\n",
        "    elif (escolha == 3): # remove a coluna nome da planilha principal\n",
        "        removendocoluna = dadosprincipal.drop(columns=['Nome'])\n",
        "        print(removendocoluna)\n",
        "    elif(escolha==2): # Forma Alternativa de Criar uma Coluna Total\n",
        "        soma2=dadosprincipal['Total']=dadosprincipal.iloc[:,4:10].sum(axis=1)\n",
        "        # Cria uma linha extra chamada Total para mostrar o resultado.\n",
        "        # iloc -  Pesquisar os dados por indices e não por descrição como no código antigo.\n",
        "        # [:, 4:9] - O primeiro, antes da [:] vírgula significa as linhas que podemos declarar para a operaçaõ.\n",
        "            # [:] siginifica todas as linhas. [10:100] siginifica da linha 10 a 100.\n",
        "        # [:, 4:9]-> 4:9 - Siginifica as matrizes das colunas: 0 = Nome, 1 = Tipo 1, 2 = Tipo 2, etc..\n",
        "            # no caso, pegando da coluna 4 = Ataque, até 9 = Velocidade\n",
        "        # sum - função de soma inclusa no python e pandas.\n",
        "        # axis = eixo. 1 = colunas (axis = 1) e linhas (axis = 0)\n",
        "        print(soma2)\n",
        "\n",
        "# Alterando Nomes de Coluna:\n",
        "\n",
        "def rename():\n",
        "    renamecoluna=dadosprincipal.rename({'Lendario':'Raro'}, axis=1)\n",
        "    # (1)Defensa - Qual alterar | (2) Defesa - Alteração\n",
        "    # axis=1 -> indica que a alteração é na coluna.\n",
        "    # inplace ->\n",
        "    print(renamecoluna)\n",
        "\n",
        "# Alterando Ordem das Colunas:\n",
        "\n",
        "def reordenandocolunas():\n",
        "    print('1 - Modo 1')\n",
        "    print('2 - Modo 2')\n",
        "    escolha = int(input('Escolha: '))\n",
        "    if(escolha==1):\n",
        "        reordenado = dadosprincipal[['Velocidade', 'Defensa', 'Ataque']]\n",
        "        # Recria uma nova matriz com uma nova ordem e mostra apenas esses\n",
        "        print(reordenado)\n",
        "    elif(escolha==2):\n",
        "        cols = list(dadosprincipal.columns.values)\n",
        "        # criando a variável cols, com os valores(dados) das colunas\n",
        "        dados = dadosprincipal[cols[4:0]+[cols[-1]]+cols[4:12]]\n",
        "        # concatenando as posições das colunas (criada na variável cols)\n",
        "        print(dados)\n",
        "\n",
        "# Salvando alterações no arquivo:\n",
        "\n",
        "def save():\n",
        "    salvamento=dadosprincipal.to_csv('salvo.csv')\n",
        "    # salvo.csv - nomeção do arquivo para salvamento.\n",
        "    # pode acontecer de criar um indice automaticamente.\n",
        "    #para criar sem indice, use -> ('salvo.csv', index=False)\n",
        "    print(salvamento)\n",
        "\n",
        "# Chamando as Funções:\n",
        "\n",
        "print(' # '*5 + 'Escolha A Função' + ' # '*5 )\n",
        "print('1 - Mostra Todas as Colunas do arquivo CSV ')\n",
        "print('2 - Carrega as informações do Arquivo ')\n",
        "print('3 - As Três Primeiras linhas do Arquivo CSV ')\n",
        "print('4 - As Três Últimas linhas do Arquivo CSV ')\n",
        "print('5 - Mostra apenas a coluna: Nome do arquivo CSV. ')\n",
        "print('6 - Mostra mais de uma coluna: Nome + Tipo1 do arquivo CSV ')\n",
        "print('7 - Acessando números de Colunas e Linhas específicas do arquivo CSV ')\n",
        "print('8 - localizar do início até a linha 4 do arquivo CSV ')\n",
        "print('9 - localizar e mostrar a Linha: 2, Coluna: 1 do arquivo CSV ')\n",
        "print('10 - localizar por nomes no arquivo CSV ')\n",
        "print('11 - Valores Estatisticos no arquivo CSV ')\n",
        "print('12 - Formas de Organização dos dados no arquivo CSV ')\n",
        "print('13 - Mostrar adicionando coluna extra com algum resultado, Deletar coluna do resultado mostrado no arquivo CSV ')\n",
        "print('14 - Renomeando no arquivo CSV ')\n",
        "print('15 - Reordenação de Coluna no arquivo CSV ')\n",
        "print('100 - Salvar arquivo | Salvar alterações')\n",
        "print('0 - Sair')\n",
        "escolha = int(input('Escolha: '))\n",
        "if(escolha==1):\n",
        "    columns()\n",
        "elif(escolha==2):\n",
        "    dados()\n",
        "elif(escolha==3):\n",
        "    dadosprincipaisselecionadosup()\n",
        "elif(escolha==4):\n",
        "    dadosprincipaisselecionadosdown()\n",
        "elif(escolha==5):\n",
        "    colunaselecionada()\n",
        "elif(escolha==6):\n",
        "    colunasselecionadas()\n",
        "elif(escolha==7):\n",
        "    selecionandodeterminadascolunaselinhas()\n",
        "elif(escolha==8):\n",
        "    mostrarlinhas()\n",
        "elif(escolha==9):\n",
        "    mostrandolinhadeumacolunaespecifica()\n",
        "elif(escolha==10):\n",
        "    buscapornome()\n",
        "elif(escolha==11):\n",
        "    valoresemediasdoarquivo()\n",
        "elif(escolha==12):\n",
        "    ordenacaodedados()\n",
        "elif(escolha==13):\n",
        "    mudancanosdados()\n",
        "elif(escolha==14):\n",
        "    rename()\n",
        "elif(escolha==15):\n",
        "    reordenandocolunas()\n",
        "elif(escolha=='s'):\n",
        "    print('Salvando Programa...')\n",
        "    save()\n",
        "elif(escolha=='x'):\n",
        "    print('Fechando Programa...')\n",
        "\n"
      ],
      "metadata": {
        "id": "XYHcUJK3eiio"
      },
      "execution_count": null,
      "outputs": []
    },
    {
      "cell_type": "markdown",
      "source": [
        "Continuação da aula sobre pandas da uninter. parte II\n"
      ],
      "metadata": {
        "id": "tPMZnlCEdrff"
      }
    },
    {
      "cell_type": "code",
      "source": [
        "# filtrando dados:\n",
        "\n",
        "filtragem = dadosprincipal.loc[(dadosprincipal['Tipo 1']=='Fogo') & (dadosprincipal['Tipo 2']=='Agua')]\n",
        "filtragem\n",
        "\n",
        "# Dentro da primeira filtragem do do arquivo para apenas o Tipo 1 = Fogo, dentro dessa busca, só quero os que o Tipo 2 = Agua.\n",
        "# & = Operador lógico 'E'.\n",
        "# | (pipe) = Operador lógico \"ou\""
      ],
      "metadata": {
        "id": "eZ-DK7EOdqv3"
      },
      "execution_count": null,
      "outputs": []
    },
    {
      "cell_type": "code",
      "source": [
        "# filtrando dados:\n",
        "\n",
        "filtragem = dadosprincipal.loc[(dadosprincipal['Tipo 1']=='Fogo') | (dadosprincipal['Tipo 2']=='Agua')]\n",
        "filtragem.reset_index(drop=True,inplace=True)\n",
        "filtragem\n",
        "\n",
        "# 'nome do arquivo'.reset_index(drop=True,inplace=True) - Para organizar os indices, pois aparece duplicado, por possuir um indice padrão que é mostrado.\n",
        "# drop = True - ativando a eliminação do indice padrão. ficando apenas com o qeu está no arquivo.\n",
        "# inplace = True - aliha do zero até o valor final da busca.\n",
        "# Dentro da primeira filtragem do do arquivo para apenas o Tipo 1 = Fogo, dentro dessa busca também o Tipo 2 = Agua. os dois.\n",
        "# & = Operador lógico 'E'.\n",
        "### | (pipe) = Operador lógico \"ou\""
      ],
      "metadata": {
        "id": "v8ZgIfd8jbci"
      },
      "execution_count": null,
      "outputs": []
    },
    {
      "cell_type": "code",
      "source": [
        "# filtrando dados:\n",
        "\n",
        "# BUsca, dentro de uma coluna determinada, passando o conteúdo para o formato string, uma determinada busca informada.\n",
        "# informa e mostra, caso haja o conteúdo da busca.\n",
        "\n",
        "filtragem = dadosprincipal[dadosprincipal['Nome'].str.contains('Mega')]\n",
        "filtragem.reset_index(drop=True,inplace=True)\n",
        "filtragem\n",
        "\n",
        "# Busca dentro da coluna Nome, o conteudo que tem MEga, caso possu-a.\n",
        "\n"
      ],
      "metadata": {
        "id": "312b0-esodQt"
      },
      "execution_count": null,
      "outputs": []
    },
    {
      "cell_type": "code",
      "source": [
        "# filtrando dados:\n",
        "\n",
        "# busca para excluir um item, use '~'. ou seja, motrará todos os resultados, execeto o expecificado.\n",
        "\n",
        "filtragem = dadosprincipal.loc[~dadosprincipal['Nome'].str.contains('Mega')]\n",
        "filtragem.reset_index(drop=True,inplace=True)\n",
        "filtragem\n",
        "\n",
        "# Busca dentro da coluna Nome, todos os conteudos, exceto o que tem Mega, caso possu-a."
      ],
      "metadata": {
        "id": "kHzxix-T2Cfj"
      },
      "execution_count": null,
      "outputs": []
    },
    {
      "cell_type": "code",
      "source": [
        "# Filtrando dados com expressões para pokemons de fogo e água.\n",
        "\n",
        "import re # precisa importar re para usar expressões regulares\n",
        "\n",
        "filtragem = dadosprincipal = dadosprincipal.loc[dadosprincipal['Tipo 1'].str.contains('fogo|agua', flags=re.I,regex=True)]\n",
        "filtragem\n",
        "\n",
        "# buscamos o retorno apenas dos pokemons de fogo e agua\n",
        "\n",
        "# flags=re.I - indica que independente da escrita na busca ser maiuscula ou minuscula, a string, achando, trará resultado.\n",
        "# regex = True - Valida o uso da biblioteca 're' e sua regras.\n"
      ],
      "metadata": {
        "id": "SVQGDqUA5cfT"
      },
      "execution_count": null,
      "outputs": []
    },
    {
      "cell_type": "code",
      "source": [
        "# Filtrando dados por palavras ou letras dentro de uma string de um determianda coluna: (no incio, em qualquer lugar, no final)\n",
        "\n",
        "filtragem = dadosprincipal = dadosprincipal.loc[dadosprincipal['Nome'].str.contains('^pi', flags=re.I,regex=True)]\n",
        "filtragem\n",
        "\n",
        "# buscará todos os arquivos que,d entro da coluna NOME que contenha a string com pi, em algum lugar.\n",
        "# OBS: Usando '^', no inicio do parâmetro da vári´vel a buscar, ele busca apenas no inicio da string. EX: '^pi'\n",
        "# OBS 2: o '$', indica a variável a buscar no final da string. EX: 'pi$'"
      ],
      "metadata": {
        "colab": {
          "base_uri": "https://localhost:8080/",
          "height": 193
        },
        "id": "Q6ULO-0V7l-7",
        "outputId": "956ef429-f259-46d7-c1d4-f3123d42ea53"
      },
      "execution_count": 43,
      "outputs": [
        {
          "output_type": "execute_result",
          "data": {
            "text/html": [
              "\n",
              "  <div id=\"df-5e94d781-c3f0-4883-b729-539978eceec5\">\n",
              "    <div class=\"colab-df-container\">\n",
              "      <div>\n",
              "<style scoped>\n",
              "    .dataframe tbody tr th:only-of-type {\n",
              "        vertical-align: middle;\n",
              "    }\n",
              "\n",
              "    .dataframe tbody tr th {\n",
              "        vertical-align: top;\n",
              "    }\n",
              "\n",
              "    .dataframe thead th {\n",
              "        text-align: right;\n",
              "    }\n",
              "</style>\n",
              "<table border=\"1\" class=\"dataframe\">\n",
              "  <thead>\n",
              "    <tr style=\"text-align: right;\">\n",
              "      <th></th>\n",
              "      <th>#</th>\n",
              "      <th>Nome</th>\n",
              "      <th>Tipo 1</th>\n",
              "      <th>Tipo 2</th>\n",
              "      <th>Vida</th>\n",
              "      <th>Ataque</th>\n",
              "      <th>Defensa</th>\n",
              "      <th>Atq Esp</th>\n",
              "      <th>Def Esp</th>\n",
              "      <th>Velocidade</th>\n",
              "      <th>Geracao</th>\n",
              "      <th>Lendario</th>\n",
              "    </tr>\n",
              "  </thead>\n",
              "  <tbody>\n",
              "    <tr>\n",
              "      <th>438</th>\n",
              "      <td>393</td>\n",
              "      <td>Piplup</td>\n",
              "      <td>Agua</td>\n",
              "      <td>NaN</td>\n",
              "      <td>53</td>\n",
              "      <td>51</td>\n",
              "      <td>53</td>\n",
              "      <td>61</td>\n",
              "      <td>56</td>\n",
              "      <td>40</td>\n",
              "      <td>4</td>\n",
              "      <td>False</td>\n",
              "    </tr>\n",
              "    <tr>\n",
              "      <th>558</th>\n",
              "      <td>499</td>\n",
              "      <td>Pignite</td>\n",
              "      <td>Fogo</td>\n",
              "      <td>Lutador</td>\n",
              "      <td>90</td>\n",
              "      <td>93</td>\n",
              "      <td>55</td>\n",
              "      <td>70</td>\n",
              "      <td>55</td>\n",
              "      <td>55</td>\n",
              "      <td>5</td>\n",
              "      <td>False</td>\n",
              "    </tr>\n",
              "  </tbody>\n",
              "</table>\n",
              "</div>\n",
              "      <button class=\"colab-df-convert\" onclick=\"convertToInteractive('df-5e94d781-c3f0-4883-b729-539978eceec5')\"\n",
              "              title=\"Convert this dataframe to an interactive table.\"\n",
              "              style=\"display:none;\">\n",
              "        \n",
              "  <svg xmlns=\"http://www.w3.org/2000/svg\" height=\"24px\"viewBox=\"0 0 24 24\"\n",
              "       width=\"24px\">\n",
              "    <path d=\"M0 0h24v24H0V0z\" fill=\"none\"/>\n",
              "    <path d=\"M18.56 5.44l.94 2.06.94-2.06 2.06-.94-2.06-.94-.94-2.06-.94 2.06-2.06.94zm-11 1L8.5 8.5l.94-2.06 2.06-.94-2.06-.94L8.5 2.5l-.94 2.06-2.06.94zm10 10l.94 2.06.94-2.06 2.06-.94-2.06-.94-.94-2.06-.94 2.06-2.06.94z\"/><path d=\"M17.41 7.96l-1.37-1.37c-.4-.4-.92-.59-1.43-.59-.52 0-1.04.2-1.43.59L10.3 9.45l-7.72 7.72c-.78.78-.78 2.05 0 2.83L4 21.41c.39.39.9.59 1.41.59.51 0 1.02-.2 1.41-.59l7.78-7.78 2.81-2.81c.8-.78.8-2.07 0-2.86zM5.41 20L4 18.59l7.72-7.72 1.47 1.35L5.41 20z\"/>\n",
              "  </svg>\n",
              "      </button>\n",
              "      \n",
              "  <style>\n",
              "    .colab-df-container {\n",
              "      display:flex;\n",
              "      flex-wrap:wrap;\n",
              "      gap: 12px;\n",
              "    }\n",
              "\n",
              "    .colab-df-convert {\n",
              "      background-color: #E8F0FE;\n",
              "      border: none;\n",
              "      border-radius: 50%;\n",
              "      cursor: pointer;\n",
              "      display: none;\n",
              "      fill: #1967D2;\n",
              "      height: 32px;\n",
              "      padding: 0 0 0 0;\n",
              "      width: 32px;\n",
              "    }\n",
              "\n",
              "    .colab-df-convert:hover {\n",
              "      background-color: #E2EBFA;\n",
              "      box-shadow: 0px 1px 2px rgba(60, 64, 67, 0.3), 0px 1px 3px 1px rgba(60, 64, 67, 0.15);\n",
              "      fill: #174EA6;\n",
              "    }\n",
              "\n",
              "    [theme=dark] .colab-df-convert {\n",
              "      background-color: #3B4455;\n",
              "      fill: #D2E3FC;\n",
              "    }\n",
              "\n",
              "    [theme=dark] .colab-df-convert:hover {\n",
              "      background-color: #434B5C;\n",
              "      box-shadow: 0px 1px 3px 1px rgba(0, 0, 0, 0.15);\n",
              "      filter: drop-shadow(0px 1px 2px rgba(0, 0, 0, 0.3));\n",
              "      fill: #FFFFFF;\n",
              "    }\n",
              "  </style>\n",
              "\n",
              "      <script>\n",
              "        const buttonEl =\n",
              "          document.querySelector('#df-5e94d781-c3f0-4883-b729-539978eceec5 button.colab-df-convert');\n",
              "        buttonEl.style.display =\n",
              "          google.colab.kernel.accessAllowed ? 'block' : 'none';\n",
              "\n",
              "        async function convertToInteractive(key) {\n",
              "          const element = document.querySelector('#df-5e94d781-c3f0-4883-b729-539978eceec5');\n",
              "          const dataTable =\n",
              "            await google.colab.kernel.invokeFunction('convertToInteractive',\n",
              "                                                     [key], {});\n",
              "          if (!dataTable) return;\n",
              "\n",
              "          const docLinkHtml = 'Like what you see? Visit the ' +\n",
              "            '<a target=\"_blank\" href=https://colab.research.google.com/notebooks/data_table.ipynb>data table notebook</a>'\n",
              "            + ' to learn more about interactive tables.';\n",
              "          element.innerHTML = '';\n",
              "          dataTable['output_type'] = 'display_data';\n",
              "          await google.colab.output.renderOutput(dataTable, element);\n",
              "          const docLink = document.createElement('div');\n",
              "          docLink.innerHTML = docLinkHtml;\n",
              "          element.appendChild(docLink);\n",
              "        }\n",
              "      </script>\n",
              "    </div>\n",
              "  </div>\n",
              "  "
            ],
            "text/plain": [
              "       #     Nome Tipo 1   Tipo 2  ...  Def Esp  Velocidade  Geracao  Lendario\n",
              "438  393   Piplup   Agua      NaN  ...       56          40        4     False\n",
              "558  499  Pignite   Fogo  Lutador  ...       55          55        5     False\n",
              "\n",
              "[2 rows x 12 columns]"
            ]
          },
          "metadata": {},
          "execution_count": 43
        }
      ]
    },
    {
      "cell_type": "markdown",
      "source": [
        "___________________________________________________________________________________\n"
      ],
      "metadata": {
        "id": "AQ6TjOWThWuP"
      }
    },
    {
      "cell_type": "code",
      "source": [
        "# busca teste de uma arquivo do trade esportivo.\n",
        "# buscar se dentro do arquivo, contém times da casa com mais de 2 gols.\n",
        "\n",
        "# link da aula - https://youtu.be/MWnVNEqRFio\n",
        "\n",
        "from google.colab import files\n",
        "import io\n",
        "\n",
        "uploaded = files.upload() # subindo arquivo do pc para o servidores google para usar\n",
        "# uploaded - chama o upload do arquivo.\n",
        "\n",
        "# OBS1: Os aquivos serão inputados no servidores da google em formato de texto(string)\n",
        "\n",
        "dadosbudesliga = next(iter(uploaded)) # variável que irá guaradar o noem do arquivo.\n",
        "\n",
        "# uploaded.keys() - informa a chave do dicionário do arquivo \"upado\"\n",
        "# uploaded.values() - informa a chave do dicionário do arquivo \"upado\"\n",
        "\n",
        "gdadosbudesliga = io.StringIO(uploaded[dadosbudesliga].decode('ISO 8859-1').strip())\n",
        "\n",
        "# uploaded[dadosbudesliga] # informa o value, que é todo o conteuda da chave(keys, arquivo) q esta em uma string\n",
        "\n",
        "# uploaded[dadosbudesliga].decode('ISO 8859-1') #devolve o arquivo com a formatação informada.\n",
        "\n",
        "# io.StringIO(uploaded[dadosbudesliga].decode('ISO 8859-1').strip()) # informa o local da memoria onde a string está armazenada\n",
        "\n",
        "# uploaded[dadosbudesliga] ou [nomedoaruivofeitoupload ou keys(a chave informa no upload)] - Devolve um string q tem todos os dados, separados por virgula\n",
        "# ISO 8859-1 - tipo de formatação na decodificação do arquivo(keys) \n",
        "\n",
        "# OBS2: Toda função precisa de um '()', como exemplo: strip()\n",
        "\n",
        "\n",
        "#chamando arquivo upado:\n",
        "budesliga = pandas.read_csv(gdadosbudesliga) # rodando .csv.\n",
        "\n",
        "\n",
        "\n",
        "# função\n",
        "\n",
        "def golscasa():\n",
        "  filtragem = budesliga.loc[(budesliga['Gols Casa'] >= 2)]\n",
        "  filtragem\n",
        "\n",
        "# obs3 - Preciso sempre inputar o arquivo para informação. não esta de forma automata.\n",
        "\n",
        "# programa\n",
        "budesliga.columns\n"
      ],
      "metadata": {
        "colab": {
          "resources": {
            "http://localhost:8080/nbextensions/google.colab/files.js": {
              "data": "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",
              "ok": true,
              "headers": [
                [
                  "content-type",
                  "application/javascript"
                ]
              ],
              "status": 200,
              "status_text": ""
            }
          },
          "base_uri": "https://localhost:8080/",
          "height": 212
        },
        "id": "9BMxSZ88syeK",
        "outputId": "3f0184bf-bb41-4721-d25b-141ae51aa4b0"
      },
      "execution_count": 58,
      "outputs": [
        {
          "output_type": "display_data",
          "data": {
            "text/html": [
              "\n",
              "     <input type=\"file\" id=\"files-a8f0ed20-3597-4500-9050-8221e7fb4899\" name=\"files[]\" multiple disabled\n",
              "        style=\"border:none\" />\n",
              "     <output id=\"result-a8f0ed20-3597-4500-9050-8221e7fb4899\">\n",
              "      Upload widget is only available when the cell has been executed in the\n",
              "      current browser session. Please rerun this cell to enable.\n",
              "      </output>\n",
              "      <script src=\"/nbextensions/google.colab/files.js\"></script> "
            ],
            "text/plain": [
              "<IPython.core.display.HTML object>"
            ]
          },
          "metadata": {}
        },
        {
          "output_type": "stream",
          "name": "stdout",
          "text": [
            "Saving bundesliga1.csv to bundesliga1 (8).csv\n"
          ]
        },
        {
          "output_type": "execute_result",
          "data": {
            "text/plain": [
              "Index(['Dezembro 2021', 'Unnamed: 1', 'Unnamed: 2', 'Unnamed: 3', 'Unnamed: 4',\n",
              "       'Unnamed: 5', 'Unnamed: 6', 'Unnamed: 7', 'Unnamed: 8', 'Unnamed: 9',\n",
              "       'Unnamed: 10', 'Unnamed: 11', 'Gols', 'Unnamed: 13', 'Unnamed: 14',\n",
              "       'Unnamed: 15', 'Resultado', 'Unnamed: 17', 'Unnamed: 18', 'Unnamed: 19',\n",
              "       'Unnamed: 20', 'Unnamed: 21', 'Unnamed: 22', 'Banca', 'Unnamed: 24',\n",
              "       'Unnamed: 25', 'Unnamed: 26', 'Unnamed: 27', 'Dias', 'Unnamed: 29',\n",
              "       'Unnamed: 30'],\n",
              "      dtype='object')"
            ]
          },
          "metadata": {},
          "execution_count": 58
        }
      ]
    },
    {
      "cell_type": "markdown",
      "source": [
        "____________________________________________________________________________________"
      ],
      "metadata": {
        "id": "fJeWtawqoaJ0"
      }
    },
    {
      "cell_type": "markdown",
      "source": [
        "Aqui embaixo é outro ensinametno sobre o mesmo tema."
      ],
      "metadata": {
        "id": "NWgNiP1_dyEg"
      }
    },
    {
      "cell_type": "code",
      "execution_count": null,
      "metadata": {
        "id": "mtHEQkJsU8-5"
      },
      "outputs": [],
      "source": [
        "import pandas as pd  # importando Biblioteca Pandas\n",
        "\n",
        "dados = pd.read_csv('https://raw.githubusercontent.com/leonhgomes/Pandas/main/pokemon_data.csv') \n",
        "# colocar o caminho entre aspas duplas. caminho e o arquivo. \n",
        "\n",
        "print(dados.columns)"
      ]
    },
    {
      "cell_type": "markdown",
      "source": [
        "Dados de Vacinação de BD em Excel Baixado."
      ],
      "metadata": {
        "id": "ya0mVJUGOvJi"
      }
    },
    {
      "cell_type": "code",
      "source": [
        "import pandas\n",
        "import csv\n",
        "\n",
        "# Tentativa 1:\n",
        "#dados = open(\"C:\\Users\\shaff\\Downloads\\openDataSus.csv\")\n",
        "#dados = csv.reader(dados)\n",
        "\n",
        "# Tentativa 2:\n",
        "dados = pandas.read_csv(\"C:\\Users\\shaff\\Downloads\\openDataSus.csv\")\n",
        "\n",
        "print(dados.describe())\n",
        "\n",
        "# print(dados.columns)\n",
        "\n",
        "# print(dados.loc[dados['Nome'] == 'Pollyanna'])"
      ],
      "metadata": {
        "colab": {
          "base_uri": "https://localhost:8080/",
          "height": 148
        },
        "id": "u1wiOhbyL_w6",
        "outputId": "ba2f038f-37d8-4d69-d6a9-5ad85cca2bba"
      },
      "execution_count": null,
      "outputs": [
        {
          "output_type": "error",
          "ename": "SyntaxError",
          "evalue": "ignored",
          "traceback": [
            "\u001b[0;36m  File \u001b[0;32m\"<ipython-input-35-64629b330392>\"\u001b[0;36m, line \u001b[0;32m7\u001b[0m\n\u001b[0;31m    dados = pandas.read_csv(\"C:\\Users\\shaff\\Downloads\\openDataSus.csv\")\u001b[0m\n\u001b[0m                           ^\u001b[0m\n\u001b[0;31mSyntaxError\u001b[0m\u001b[0;31m:\u001b[0m (unicode error) 'unicodeescape' codec can't decode bytes in position 2-3: truncated \\UXXXXXXXX escape\n"
          ]
        }
      ]
    },
    {
      "cell_type": "code",
      "source": [
        "# Acesso aos Dados.\n",
        "\n",
        "import pandas\n",
        "\n",
        "# Carregando dados. QUe podem ser de um endereço local ou um html. sempre entre aspas. e .arquivo(csv,xlsx, outros)\n",
        "# Pegar dados com permissão de acesso ou o mais bruto.\n",
        "dadosprincipal = pandas.read_csv('https://raw.githubusercontent.com/leonhgomes/Pandas/main/pokemon_data.csv')\n",
        "\n",
        "# print(dadosprincipal.columns) # print apenas das colunas do arquivo.\n",
        "\n",
        "# print(dadosprincipal.head)\n",
        "# Carrega as informações totais do arquivo.\n",
        "\n",
        "# print(dadosprincipal.head(3)) # quantidade de linhas iniciais (3) + todas as colunas\n",
        "\n",
        "# Pode-se passar uma quantidade de linhas para abrir do arquivo, caso seja estenso em númeor de linhas e colunas.\n",
        "\n",
        "# print(dadosprincipal.tail(3)) # quantidade de linhas Finais (3) + todas as colunas\n",
        "\n",
        "# Acessando Colunas Individuais:\n",
        "\n",
        "# print(dadosprincipal['Nome']) # mostra apenas a coluna 'Nome' do arquivo.\n",
        "\n",
        "# print(dadosprincipal[['Nome','Tipo 1']]) # mostra mais de uma coluna. 'Nome' e 'Tipo1' do arquivo.\n",
        "# OBS: Tive que usar um colchete para cada coluna que quis mostrar. Ou seja, Duas.\n",
        "\n",
        "# Acessando Colunas e linhas específicas:\n",
        "\n",
        "# print(dadosprincipal[['Nome', 'Tipo 1']][5:10]) # Coluna 'NOME\" + 'TIPO 1', da linha 5 a 9\n",
        "# print(dadosprincipal[['Nome', 'Tipo 1']][5:250:5]) # Coluna 'NOME\" + 'TIPO 1', da linha 5 a 249, pulando de 2 em 2\n",
        "\n",
        "# Acessando linhas específicas:\n",
        "\n",
        "# print(dadosprincipal.iloc[:4]) # localizar da início até a linha 4.\n",
        "\n",
        "# Acessando linhas e colunas específicas:\n",
        "\n",
        "# print(dadosprincipal.iloc[2,1]) # localizar da Linha: 2, Coluna: 1.\n",
        "\n",
        "# Busca por Nome, ou outro reconhecimento:\n",
        "\n",
        "# print(dadosprincipal.loc[dadosprincipal['Tipo 1'] == 'Fogo']) # localizar da Linha: 2, Coluna: 1.\n",
        "\n",
        "# Acessar Linha por Nome:\n",
        "\n",
        "# indice e linha foi nomeado ao meu gosto.\n",
        "# iterrows - Gera uma lista de linhas, interação pelas linhas do arquivo\n",
        "#for indice, linha in dadosprincipal.iterrows():\n",
        "#    print(indice, linha['Nome']) # coluna alvo para retorno do s dados.\n",
        "#    if linha['#'] == 150: # uma marcação, coluna contida na planilha, pdoeria ser qualquer outra referencia ao meu gosto.\n",
        "#        break               # usar [] para delimitar paramentros em um arquivo\n",
        "\n",
        "# Programação retornará o itens de da coluna NOME até a macação númerica, contida na planilha, de 150. e vai parar.\n",
        "\n",
        "# Valores Estatisticos Básicos:\n",
        "\n",
        "# print(dadosprincipal.describe())\n",
        "\n",
        "# Ordenação de Dados:\n",
        "\n",
        "#print(dadosprincipal.sort_values('Nome'))\n",
        "# Organizado de forma ascendente (a-z)\n",
        "# nomedavariavel.sort_values('coluna para organização dentrod o arquivo')\n",
        "\n",
        "print(dadosprincipal.sort_values('Nome',ascending=False))\n",
        "# Organizado de forma descendente (Z-A)\n",
        "# \"F\" maiúsculo."
      ],
      "metadata": {
        "id": "3moo4JZhodJZ"
      },
      "execution_count": null,
      "outputs": []
    }
  ]
}